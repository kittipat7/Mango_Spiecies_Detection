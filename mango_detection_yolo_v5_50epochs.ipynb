{
  "cells": [
    {
      "cell_type": "markdown",
      "metadata": {
        "id": "view-in-github",
        "colab_type": "text"
      },
      "source": [
        "<a href=\"https://colab.research.google.com/github/kittipat7/Mango_Spiecies_Detection/blob/main/mango_detection_yolo_v5_50epochs.ipynb\" target=\"_parent\"><img src=\"https://colab.research.google.com/assets/colab-badge.svg\" alt=\"Open In Colab\"/></a>"
      ]
    },
    {
      "cell_type": "code",
      "source": [
        "!nvidia-smi"
      ],
      "metadata": {
        "colab": {
          "base_uri": "https://localhost:8080/"
        },
        "id": "Acwxu1XP4iOh",
        "outputId": "a2e54ba7-f062-41bf-a31d-131ed2e40c9b"
      },
      "execution_count": null,
      "outputs": [
        {
          "output_type": "stream",
          "name": "stdout",
          "text": [
            "Mon May 15 04:19:05 2023       \n",
            "+-----------------------------------------------------------------------------+\n",
            "| NVIDIA-SMI 525.85.12    Driver Version: 525.85.12    CUDA Version: 12.0     |\n",
            "|-------------------------------+----------------------+----------------------+\n",
            "| GPU  Name        Persistence-M| Bus-Id        Disp.A | Volatile Uncorr. ECC |\n",
            "| Fan  Temp  Perf  Pwr:Usage/Cap|         Memory-Usage | GPU-Util  Compute M. |\n",
            "|                               |                      |               MIG M. |\n",
            "|===============================+======================+======================|\n",
            "|   0  Tesla T4            Off  | 00000000:00:04.0 Off |                    0 |\n",
            "| N/A   50C    P8    11W /  70W |      0MiB / 15360MiB |      0%      Default |\n",
            "|                               |                      |                  N/A |\n",
            "+-------------------------------+----------------------+----------------------+\n",
            "                                                                               \n",
            "+-----------------------------------------------------------------------------+\n",
            "| Processes:                                                                  |\n",
            "|  GPU   GI   CI        PID   Type   Process name                  GPU Memory |\n",
            "|        ID   ID                                                   Usage      |\n",
            "|=============================================================================|\n",
            "|  No running processes found                                                 |\n",
            "+-----------------------------------------------------------------------------+\n"
          ]
        }
      ]
    },
    {
      "cell_type": "code",
      "source": [
        "from google.colab import drive\n",
        "drive.mount('/content/drive', force_remount=True)"
      ],
      "metadata": {
        "colab": {
          "base_uri": "https://localhost:8080/"
        },
        "id": "SHdsxPaGCCoY",
        "outputId": "00607515-09cb-4ab7-f87b-a2828827acd8"
      },
      "execution_count": null,
      "outputs": [
        {
          "output_type": "stream",
          "name": "stdout",
          "text": [
            "Mounted at /content/drive\n"
          ]
        }
      ]
    },
    {
      "cell_type": "markdown",
      "metadata": {
        "id": "5B6tll3NUoLx"
      },
      "source": [
        "# Install YOLO"
      ]
    },
    {
      "cell_type": "markdown",
      "metadata": {
        "id": "vsjD2h7KVJgJ"
      },
      "source": [
        "Clone หรือ copy folder จาก github https://github.com/ultralytics/yolov5 "
      ]
    },
    {
      "cell_type": "code",
      "execution_count": null,
      "metadata": {
        "colab": {
          "base_uri": "https://localhost:8080/"
        },
        "id": "lIjmc29HLRB1",
        "outputId": "fd15e171-c774-4f91-8929-7a8c8c4b24d1"
      },
      "outputs": [
        {
          "output_type": "stream",
          "name": "stderr",
          "text": [
            "YOLOv5 🚀 v7.0-167-g5deff14 Python-3.10.11 torch-2.0.0+cu118 CUDA:0 (Tesla T4, 15102MiB)\n"
          ]
        },
        {
          "output_type": "stream",
          "name": "stdout",
          "text": [
            "Setup complete ✅ (2 CPUs, 12.7 GB RAM, 23.5/78.2 GB disk)\n"
          ]
        }
      ],
      "source": [
        "!git clone https://github.com/ultralytics/yolov5  # clone\n",
        "%cd yolov5\n",
        "%pip install -qr requirements.txt  # install\n",
        "\n",
        "import torch\n",
        "import utils\n",
        "display = utils.notebook_init()  # checks"
      ]
    },
    {
      "cell_type": "markdown",
      "metadata": {
        "id": "UWc8KGulYKYz"
      },
      "source": [
        "# Download pretrained YOLO model with coco128 dataset"
      ]
    },
    {
      "cell_type": "code",
      "source": [
        "# https://storage.googleapis.com/fastwork-static/43fef466-2850-4d76-b1bc-db8a836d1f1f.jpg\n",
        "!python detect.py --source '/content/Fur.jpg'"
      ],
      "metadata": {
        "colab": {
          "base_uri": "https://localhost:8080/"
        },
        "id": "DcqZmki8nx3m",
        "outputId": "a9b49f28-5ab7-420e-a073-b0f727854bdf"
      },
      "execution_count": null,
      "outputs": [
        {
          "output_type": "stream",
          "name": "stdout",
          "text": [
            "\u001b[34m\u001b[1mdetect: \u001b[0mweights=yolov5s.pt, source=/content/Fur.jpg, data=data/coco128.yaml, imgsz=[640, 640], conf_thres=0.25, iou_thres=0.45, max_det=1000, device=, view_img=False, save_txt=False, save_conf=False, save_crop=False, nosave=False, classes=None, agnostic_nms=False, augment=False, visualize=False, update=False, project=runs/detect, name=exp, exist_ok=False, line_thickness=3, hide_labels=False, hide_conf=False, half=False, dnn=False, vid_stride=1\n",
            "\u001b[31m\u001b[1mrequirements:\u001b[0m /usr/local/lib/python3.10/dist-packages/requirements.txt not found, check failed.\n",
            "YOLOv5 🚀 v7.0-167-g5deff14 Python-3.10.11 torch-2.0.0+cu118 CUDA:0 (Tesla T4, 15102MiB)\n",
            "\n",
            "Downloading https://github.com/ultralytics/yolov5/releases/download/v7.0/yolov5s.pt to yolov5s.pt...\n",
            "100% 14.1M/14.1M [00:00<00:00, 274MB/s]\n",
            "\n",
            "Fusing layers... \n",
            "YOLOv5s summary: 213 layers, 7225885 parameters, 0 gradients\n",
            "Traceback (most recent call last):\n",
            "  File \"/content/yolov5/detect.py\", line 261, in <module>\n",
            "    main(opt)\n",
            "  File \"/content/yolov5/detect.py\", line 256, in main\n",
            "    run(**vars(opt))\n",
            "  File \"/usr/local/lib/python3.10/dist-packages/torch/utils/_contextlib.py\", line 115, in decorate_context\n",
            "    return func(*args, **kwargs)\n",
            "  File \"/content/yolov5/detect.py\", line 111, in run\n",
            "    dataset = LoadImages(source, img_size=imgsz, stride=stride, auto=pt, vid_stride=vid_stride)\n",
            "  File \"/content/yolov5/utils/dataloaders.py\", line 254, in __init__\n",
            "    raise FileNotFoundError(f'{p} does not exist')\n",
            "FileNotFoundError: /content/Fur.jpg does not exist\n"
          ]
        }
      ]
    },
    {
      "cell_type": "markdown",
      "metadata": {
        "id": "zY0raC5LfQ1H"
      },
      "source": [
        "# Data labelling ด้วย roboflow"
      ]
    },
    {
      "cell_type": "markdown",
      "metadata": {
        "id": "i442fYUZg4zg"
      },
      "source": [
        "\n",
        "<img src='https://public.roboflow.com/images/logo.png' width=\"400\"> "
      ]
    },
    {
      "cell_type": "markdown",
      "metadata": {
        "id": "Rf4WS_fzVeqv"
      },
      "source": [
        "https://roboflow.com/\n",
        "\n",
        "https://blog.roboflow.com/how-to-train-yolov5-on-a-custom-dataset/?ref=ultralytics "
      ]
    },
    {
      "cell_type": "markdown",
      "source": [
        "## transfer learning"
      ],
      "metadata": {
        "id": "_lZoM4SfdsPK"
      }
    },
    {
      "cell_type": "code",
      "execution_count": null,
      "metadata": {
        "colab": {
          "base_uri": "https://localhost:8080/"
        },
        "id": "lHlQL-bPLtPw",
        "outputId": "30566319-f2c7-45cf-bfe5-e45f901015bd"
      },
      "outputs": [
        {
          "output_type": "stream",
          "name": "stdout",
          "text": [
            "\u001b[34m\u001b[1mtrain: \u001b[0mweights=/content/yolov5/yolov5s.pt, cfg=, data=/content/drive/MyDrive/DADS7202/project/yolo_10epochs/MangoDetection.v7i.yolov5pytorch/data.yaml, hyp=data/hyps/hyp.scratch-low.yaml, epochs=50, batch_size=16, imgsz=640, rect=False, resume=False, nosave=False, noval=False, noautoanchor=False, noplots=False, evolve=None, bucket=, cache=None, image_weights=False, device=, multi_scale=False, single_cls=False, optimizer=SGD, sync_bn=False, workers=8, project=runs/train, name=exp, exist_ok=False, quad=False, cos_lr=False, label_smoothing=0.0, patience=100, freeze=[0], save_period=-1, seed=0, local_rank=-1, entity=None, upload_dataset=False, bbox_interval=-1, artifact_alias=latest\n",
            "\u001b[34m\u001b[1mgithub: \u001b[0mup to date with https://github.com/ultralytics/yolov5 ✅\n",
            "YOLOv5 🚀 v7.0-167-g5deff14 Python-3.10.11 torch-2.0.0+cu118 CUDA:0 (Tesla T4, 15102MiB)\n",
            "\n",
            "\u001b[34m\u001b[1mhyperparameters: \u001b[0mlr0=0.01, lrf=0.01, momentum=0.937, weight_decay=0.0005, warmup_epochs=3.0, warmup_momentum=0.8, warmup_bias_lr=0.1, box=0.05, cls=0.5, cls_pw=1.0, obj=1.0, obj_pw=1.0, iou_t=0.2, anchor_t=4.0, fl_gamma=0.0, hsv_h=0.015, hsv_s=0.7, hsv_v=0.4, degrees=0.0, translate=0.1, scale=0.5, shear=0.0, perspective=0.0, flipud=0.0, fliplr=0.5, mosaic=1.0, mixup=0.0, copy_paste=0.0\n",
            "\u001b[34m\u001b[1mClearML: \u001b[0mrun 'pip install clearml' to automatically track, visualize and remotely train YOLOv5 🚀 in ClearML\n",
            "\u001b[34m\u001b[1mComet: \u001b[0mrun 'pip install comet_ml' to automatically track and visualize YOLOv5 🚀 runs in Comet\n",
            "\u001b[34m\u001b[1mTensorBoard: \u001b[0mStart with 'tensorboard --logdir runs/train', view at http://localhost:6006/\n",
            "Overriding model.yaml nc=80 with nc=3\n",
            "\n",
            "                 from  n    params  module                                  arguments                     \n",
            "  0                -1  1      3520  models.common.Conv                      [3, 32, 6, 2, 2]              \n",
            "  1                -1  1     18560  models.common.Conv                      [32, 64, 3, 2]                \n",
            "  2                -1  1     18816  models.common.C3                        [64, 64, 1]                   \n",
            "  3                -1  1     73984  models.common.Conv                      [64, 128, 3, 2]               \n",
            "  4                -1  2    115712  models.common.C3                        [128, 128, 2]                 \n",
            "  5                -1  1    295424  models.common.Conv                      [128, 256, 3, 2]              \n",
            "  6                -1  3    625152  models.common.C3                        [256, 256, 3]                 \n",
            "  7                -1  1   1180672  models.common.Conv                      [256, 512, 3, 2]              \n",
            "  8                -1  1   1182720  models.common.C3                        [512, 512, 1]                 \n",
            "  9                -1  1    656896  models.common.SPPF                      [512, 512, 5]                 \n",
            " 10                -1  1    131584  models.common.Conv                      [512, 256, 1, 1]              \n",
            " 11                -1  1         0  torch.nn.modules.upsampling.Upsample    [None, 2, 'nearest']          \n",
            " 12           [-1, 6]  1         0  models.common.Concat                    [1]                           \n",
            " 13                -1  1    361984  models.common.C3                        [512, 256, 1, False]          \n",
            " 14                -1  1     33024  models.common.Conv                      [256, 128, 1, 1]              \n",
            " 15                -1  1         0  torch.nn.modules.upsampling.Upsample    [None, 2, 'nearest']          \n",
            " 16           [-1, 4]  1         0  models.common.Concat                    [1]                           \n",
            " 17                -1  1     90880  models.common.C3                        [256, 128, 1, False]          \n",
            " 18                -1  1    147712  models.common.Conv                      [128, 128, 3, 2]              \n",
            " 19          [-1, 14]  1         0  models.common.Concat                    [1]                           \n",
            " 20                -1  1    296448  models.common.C3                        [256, 256, 1, False]          \n",
            " 21                -1  1    590336  models.common.Conv                      [256, 256, 3, 2]              \n",
            " 22          [-1, 10]  1         0  models.common.Concat                    [1]                           \n",
            " 23                -1  1   1182720  models.common.C3                        [512, 512, 1, False]          \n",
            " 24      [17, 20, 23]  1     21576  models.yolo.Detect                      [3, [[10, 13, 16, 30, 33, 23], [30, 61, 62, 45, 59, 119], [116, 90, 156, 198, 373, 326]], [128, 256, 512]]\n",
            "Model summary: 214 layers, 7027720 parameters, 7027720 gradients, 16.0 GFLOPs\n",
            "\n",
            "Transferred 343/349 items from /content/yolov5/yolov5s.pt\n",
            "\u001b[34m\u001b[1mAMP: \u001b[0mchecks passed ✅\n",
            "\u001b[34m\u001b[1moptimizer:\u001b[0m SGD(lr=0.01) with parameter groups 57 weight(decay=0.0), 60 weight(decay=0.0005), 60 bias\n",
            "\u001b[34m\u001b[1malbumentations: \u001b[0mBlur(p=0.01, blur_limit=(3, 7)), MedianBlur(p=0.01, blur_limit=(3, 7)), ToGray(p=0.01), CLAHE(p=0.01, clip_limit=(1, 4.0), tile_grid_size=(8, 8))\n",
            "\u001b[34m\u001b[1mtrain: \u001b[0mScanning /content/drive/MyDrive/DADS7202/project/yolo_10epochs/MangoDetection.v7i.yolov5pytorch/train/labels.cache... 473 images, 0 backgrounds, 0 corrupt: 100% 473/473 [00:00<?, ?it/s]\n",
            "\u001b[34m\u001b[1mval: \u001b[0mScanning /content/drive/MyDrive/DADS7202/project/yolo_10epochs/MangoDetection.v7i.yolov5pytorch/valid/labels.cache... 53 images, 0 backgrounds, 0 corrupt: 100% 53/53 [00:00<?, ?it/s]\n",
            "\n",
            "\u001b[34m\u001b[1mAutoAnchor: \u001b[0m2.42 anchors/target, 1.000 Best Possible Recall (BPR). Current anchors are a good fit to dataset ✅\n",
            "Plotting labels to runs/train/exp/labels.jpg... \n",
            "Image sizes 640 train, 640 val\n",
            "Using 2 dataloader workers\n",
            "Logging results to \u001b[1mruns/train/exp\u001b[0m\n",
            "Starting training for 50 epochs...\n",
            "\n",
            "      Epoch    GPU_mem   box_loss   obj_loss   cls_loss  Instances       Size\n",
            "       0/49      3.49G    0.06382    0.02901    0.02566         29        640: 100% 30/30 [00:20<00:00,  1.47it/s]\n",
            "                 Class     Images  Instances          P          R      mAP50   mAP50-95: 100% 2/2 [00:02<00:00,  1.27s/it]\n",
            "                   all         53         53      0.559      0.297      0.272      0.129\n",
            "\n",
            "      Epoch    GPU_mem   box_loss   obj_loss   cls_loss  Instances       Size\n",
            "       1/49       4.3G     0.0488    0.01956    0.02231         21        640: 100% 30/30 [00:15<00:00,  1.95it/s]\n",
            "                 Class     Images  Instances          P          R      mAP50   mAP50-95: 100% 2/2 [00:00<00:00,  2.04it/s]\n",
            "                   all         53         53      0.524      0.589      0.327      0.134\n",
            "\n",
            "      Epoch    GPU_mem   box_loss   obj_loss   cls_loss  Instances       Size\n",
            "       2/49       4.3G    0.04516    0.01561    0.01676         24        640: 100% 30/30 [00:14<00:00,  2.01it/s]\n",
            "                 Class     Images  Instances          P          R      mAP50   mAP50-95: 100% 2/2 [00:01<00:00,  1.33it/s]\n",
            "                   all         53         53      0.541      0.544       0.41      0.171\n",
            "\n",
            "      Epoch    GPU_mem   box_loss   obj_loss   cls_loss  Instances       Size\n",
            "       3/49       4.3G    0.04582    0.01289    0.01613         21        640: 100% 30/30 [00:15<00:00,  1.94it/s]\n",
            "                 Class     Images  Instances          P          R      mAP50   mAP50-95: 100% 2/2 [00:01<00:00,  1.59it/s]\n",
            "                   all         53         53      0.519        0.4      0.293      0.169\n",
            "\n",
            "      Epoch    GPU_mem   box_loss   obj_loss   cls_loss  Instances       Size\n",
            "       4/49       4.3G    0.03843    0.01271    0.01391         17        640: 100% 30/30 [00:15<00:00,  1.95it/s]\n",
            "                 Class     Images  Instances          P          R      mAP50   mAP50-95: 100% 2/2 [00:00<00:00,  2.07it/s]\n",
            "                   all         53         53      0.724      0.442      0.466      0.296\n",
            "\n",
            "      Epoch    GPU_mem   box_loss   obj_loss   cls_loss  Instances       Size\n",
            "       5/49       4.3G    0.03626     0.0115     0.0115         26        640: 100% 30/30 [00:15<00:00,  1.92it/s]\n",
            "                 Class     Images  Instances          P          R      mAP50   mAP50-95: 100% 2/2 [00:01<00:00,  1.83it/s]\n",
            "                   all         53         53      0.832      0.538      0.589      0.427\n",
            "\n",
            "      Epoch    GPU_mem   box_loss   obj_loss   cls_loss  Instances       Size\n",
            "       6/49       4.3G    0.03609    0.01069    0.01225         14        640: 100% 30/30 [00:14<00:00,  2.01it/s]\n",
            "                 Class     Images  Instances          P          R      mAP50   mAP50-95: 100% 2/2 [00:01<00:00,  1.89it/s]\n",
            "                   all         53         53      0.761      0.519      0.593      0.401\n",
            "\n",
            "      Epoch    GPU_mem   box_loss   obj_loss   cls_loss  Instances       Size\n",
            "       7/49       4.3G    0.03326    0.01072    0.01121         20        640: 100% 30/30 [00:15<00:00,  1.91it/s]\n",
            "                 Class     Images  Instances          P          R      mAP50   mAP50-95: 100% 2/2 [00:01<00:00,  1.30it/s]\n",
            "                   all         53         53      0.852      0.646      0.809      0.626\n",
            "\n",
            "      Epoch    GPU_mem   box_loss   obj_loss   cls_loss  Instances       Size\n",
            "       8/49       4.3G    0.03346   0.009548   0.008403         13        640: 100% 30/30 [00:15<00:00,  1.91it/s]\n",
            "                 Class     Images  Instances          P          R      mAP50   mAP50-95: 100% 2/2 [00:01<00:00,  1.24it/s]\n",
            "                   all         53         53      0.895       0.64      0.687      0.522\n",
            "\n",
            "      Epoch    GPU_mem   box_loss   obj_loss   cls_loss  Instances       Size\n",
            "       9/49       4.3G    0.03152    0.01004   0.009991         24        640: 100% 30/30 [00:15<00:00,  1.88it/s]\n",
            "                 Class     Images  Instances          P          R      mAP50   mAP50-95: 100% 2/2 [00:00<00:00,  2.10it/s]\n",
            "                   all         53         53      0.906      0.638      0.696      0.557\n",
            "\n",
            "      Epoch    GPU_mem   box_loss   obj_loss   cls_loss  Instances       Size\n",
            "      10/49       4.3G    0.03127   0.009641   0.009971         23        640: 100% 30/30 [00:15<00:00,  1.92it/s]\n",
            "                 Class     Images  Instances          P          R      mAP50   mAP50-95: 100% 2/2 [00:00<00:00,  2.07it/s]\n",
            "                   all         53         53        0.9      0.609      0.755      0.634\n",
            "\n",
            "      Epoch    GPU_mem   box_loss   obj_loss   cls_loss  Instances       Size\n",
            "      11/49       4.3G    0.02533   0.009657   0.009811         22        640: 100% 30/30 [00:15<00:00,  1.96it/s]\n",
            "                 Class     Images  Instances          P          R      mAP50   mAP50-95: 100% 2/2 [00:00<00:00,  2.30it/s]\n",
            "                   all         53         53      0.925      0.634      0.828      0.673\n",
            "\n",
            "      Epoch    GPU_mem   box_loss   obj_loss   cls_loss  Instances       Size\n",
            "      12/49       4.3G    0.02885   0.008848   0.009102         22        640: 100% 30/30 [00:15<00:00,  1.90it/s]\n",
            "                 Class     Images  Instances          P          R      mAP50   mAP50-95: 100% 2/2 [00:01<00:00,  1.21it/s]\n",
            "                   all         53         53      0.911      0.617      0.797      0.692\n",
            "\n",
            "      Epoch    GPU_mem   box_loss   obj_loss   cls_loss  Instances       Size\n",
            "      13/49       4.3G    0.02723   0.008972   0.008126         23        640: 100% 30/30 [00:17<00:00,  1.75it/s]\n",
            "                 Class     Images  Instances          P          R      mAP50   mAP50-95: 100% 2/2 [00:01<00:00,  1.09it/s]\n",
            "                   all         53         53      0.943      0.652      0.738      0.573\n",
            "\n",
            "      Epoch    GPU_mem   box_loss   obj_loss   cls_loss  Instances       Size\n",
            "      14/49       4.3G    0.02722   0.008836   0.008791         18        640: 100% 30/30 [00:16<00:00,  1.77it/s]\n",
            "                 Class     Images  Instances          P          R      mAP50   mAP50-95: 100% 2/2 [00:01<00:00,  1.97it/s]\n",
            "                   all         53         53      0.947      0.562      0.782       0.66\n",
            "\n",
            "      Epoch    GPU_mem   box_loss   obj_loss   cls_loss  Instances       Size\n",
            "      15/49       4.3G    0.02303   0.008908    0.00699         22        640: 100% 30/30 [00:16<00:00,  1.85it/s]\n",
            "                 Class     Images  Instances          P          R      mAP50   mAP50-95: 100% 2/2 [00:01<00:00,  1.90it/s]\n",
            "                   all         53         53       0.93      0.632       0.82      0.658\n",
            "\n",
            "      Epoch    GPU_mem   box_loss   obj_loss   cls_loss  Instances       Size\n",
            "      16/49       4.3G    0.02113   0.007976    0.00674         25        640: 100% 30/30 [00:17<00:00,  1.73it/s]\n",
            "                 Class     Images  Instances          P          R      mAP50   mAP50-95: 100% 2/2 [00:01<00:00,  1.33it/s]\n",
            "                   all         53         53      0.887      0.583      0.817      0.698\n",
            "\n",
            "      Epoch    GPU_mem   box_loss   obj_loss   cls_loss  Instances       Size\n",
            "      17/49       4.3G    0.02407   0.008781   0.008569         19        640: 100% 30/30 [00:15<00:00,  1.89it/s]\n",
            "                 Class     Images  Instances          P          R      mAP50   mAP50-95: 100% 2/2 [00:01<00:00,  1.72it/s]\n",
            "                   all         53         53      0.942      0.627      0.906      0.819\n",
            "\n",
            "      Epoch    GPU_mem   box_loss   obj_loss   cls_loss  Instances       Size\n",
            "      18/49       4.3G    0.01937   0.007854   0.005913         14        640: 100% 30/30 [00:15<00:00,  1.94it/s]\n",
            "                 Class     Images  Instances          P          R      mAP50   mAP50-95: 100% 2/2 [00:01<00:00,  1.76it/s]\n",
            "                   all         53         53      0.933      0.648      0.796      0.678\n",
            "\n",
            "      Epoch    GPU_mem   box_loss   obj_loss   cls_loss  Instances       Size\n",
            "      19/49       4.3G     0.0223    0.00782   0.008345         26        640: 100% 30/30 [00:15<00:00,  1.89it/s]\n",
            "                 Class     Images  Instances          P          R      mAP50   mAP50-95: 100% 2/2 [00:01<00:00,  1.81it/s]\n",
            "                   all         53         53      0.901      0.661      0.802      0.685\n",
            "\n",
            "      Epoch    GPU_mem   box_loss   obj_loss   cls_loss  Instances       Size\n",
            "      20/49       4.3G    0.01976   0.007992   0.005429         20        640: 100% 30/30 [00:16<00:00,  1.82it/s]\n",
            "                 Class     Images  Instances          P          R      mAP50   mAP50-95: 100% 2/2 [00:01<00:00,  1.24it/s]\n",
            "                   all         53         53      0.958      0.635      0.909      0.788\n",
            "\n",
            "      Epoch    GPU_mem   box_loss   obj_loss   cls_loss  Instances       Size\n",
            "      21/49       4.3G    0.02273    0.00817   0.005872         20        640: 100% 30/30 [00:16<00:00,  1.86it/s]\n",
            "                 Class     Images  Instances          P          R      mAP50   mAP50-95: 100% 2/2 [00:01<00:00,  1.90it/s]\n",
            "                   all         53         53      0.831      0.659      0.891      0.772\n",
            "\n",
            "      Epoch    GPU_mem   box_loss   obj_loss   cls_loss  Instances       Size\n",
            "      22/49       4.3G    0.02125   0.008175   0.005928         19        640: 100% 30/30 [00:15<00:00,  1.91it/s]\n",
            "                 Class     Images  Instances          P          R      mAP50   mAP50-95: 100% 2/2 [00:00<00:00,  2.18it/s]\n",
            "                   all         53         53      0.848      0.656      0.952       0.84\n",
            "\n",
            "      Epoch    GPU_mem   box_loss   obj_loss   cls_loss  Instances       Size\n",
            "      23/49       4.3G    0.01993   0.008087   0.007701         20        640: 100% 30/30 [00:15<00:00,  1.96it/s]\n",
            "                 Class     Images  Instances          P          R      mAP50   mAP50-95: 100% 2/2 [00:01<00:00,  1.95it/s]\n",
            "                   all         53         53      0.962      0.641      0.877      0.791\n",
            "\n",
            "      Epoch    GPU_mem   box_loss   obj_loss   cls_loss  Instances       Size\n",
            "      24/49       4.3G    0.01967    0.00753   0.006417         26        640: 100% 30/30 [00:15<00:00,  1.92it/s]\n",
            "                 Class     Images  Instances          P          R      mAP50   mAP50-95: 100% 2/2 [00:01<00:00,  1.98it/s]\n",
            "                   all         53         53      0.567      0.662      0.821      0.735\n",
            "\n",
            "      Epoch    GPU_mem   box_loss   obj_loss   cls_loss  Instances       Size\n",
            "      25/49       4.3G    0.01967   0.007744   0.006888         19        640: 100% 30/30 [00:15<00:00,  1.90it/s]\n",
            "                 Class     Images  Instances          P          R      mAP50   mAP50-95: 100% 2/2 [00:01<00:00,  1.22it/s]\n",
            "                   all         53         53      0.813      0.656      0.783      0.685\n",
            "\n",
            "      Epoch    GPU_mem   box_loss   obj_loss   cls_loss  Instances       Size\n",
            "      26/49       4.3G    0.01989     0.0072   0.005298         22        640: 100% 30/30 [00:15<00:00,  1.92it/s]\n",
            "                 Class     Images  Instances          P          R      mAP50   mAP50-95: 100% 2/2 [00:01<00:00,  1.88it/s]\n",
            "                   all         53         53      0.569      0.701       0.86      0.778\n",
            "\n",
            "      Epoch    GPU_mem   box_loss   obj_loss   cls_loss  Instances       Size\n",
            "      27/49       4.3G    0.01499   0.007472   0.005208         29        640: 100% 30/30 [00:15<00:00,  1.92it/s]\n",
            "                 Class     Images  Instances          P          R      mAP50   mAP50-95: 100% 2/2 [00:01<00:00,  1.88it/s]\n",
            "                   all         53         53      0.833      0.809      0.965      0.871\n",
            "\n",
            "      Epoch    GPU_mem   box_loss   obj_loss   cls_loss  Instances       Size\n",
            "      28/49       4.3G    0.01674    0.00735   0.004701         24        640: 100% 30/30 [00:15<00:00,  1.96it/s]\n",
            "                 Class     Images  Instances          P          R      mAP50   mAP50-95: 100% 2/2 [00:01<00:00,  1.93it/s]\n",
            "                   all         53         53      0.959      0.661      0.864      0.781\n",
            "\n",
            "      Epoch    GPU_mem   box_loss   obj_loss   cls_loss  Instances       Size\n",
            "      29/49       4.3G     0.0178   0.007342   0.005275         17        640: 100% 30/30 [00:15<00:00,  1.89it/s]\n",
            "                 Class     Images  Instances          P          R      mAP50   mAP50-95: 100% 2/2 [00:01<00:00,  1.73it/s]\n",
            "                   all         53         53      0.587        0.7      0.908      0.827\n",
            "\n",
            "      Epoch    GPU_mem   box_loss   obj_loss   cls_loss  Instances       Size\n",
            "      30/49       4.3G    0.01965    0.00753   0.006016         21        640: 100% 30/30 [00:16<00:00,  1.87it/s]\n",
            "                 Class     Images  Instances          P          R      mAP50   mAP50-95: 100% 2/2 [00:01<00:00,  1.16it/s]\n",
            "                   all         53         53      0.815      0.889      0.963      0.868\n",
            "\n",
            "      Epoch    GPU_mem   box_loss   obj_loss   cls_loss  Instances       Size\n",
            "      31/49       4.3G    0.01764   0.007435   0.004571         17        640: 100% 30/30 [00:15<00:00,  1.91it/s]\n",
            "                 Class     Images  Instances          P          R      mAP50   mAP50-95: 100% 2/2 [00:00<00:00,  2.07it/s]\n",
            "                   all         53         53      0.705      0.889      0.913      0.841\n",
            "\n",
            "      Epoch    GPU_mem   box_loss   obj_loss   cls_loss  Instances       Size\n",
            "      32/49       4.3G    0.01862   0.007393   0.004778         27        640: 100% 30/30 [00:15<00:00,  1.90it/s]\n",
            "                 Class     Images  Instances          P          R      mAP50   mAP50-95: 100% 2/2 [00:01<00:00,  2.00it/s]\n",
            "                   all         53         53      0.756      0.908      0.939      0.869\n",
            "\n",
            "      Epoch    GPU_mem   box_loss   obj_loss   cls_loss  Instances       Size\n",
            "      33/49       4.3G     0.0183   0.007241   0.007371         20        640: 100% 30/30 [00:15<00:00,  1.96it/s]\n",
            "                 Class     Images  Instances          P          R      mAP50   mAP50-95: 100% 2/2 [00:00<00:00,  2.00it/s]\n",
            "                   all         53         53      0.904      0.667       0.77      0.721\n",
            "\n",
            "      Epoch    GPU_mem   box_loss   obj_loss   cls_loss  Instances       Size\n",
            "      34/49       4.3G    0.01557   0.007181   0.005394         24        640: 100% 30/30 [00:15<00:00,  1.92it/s]\n",
            "                 Class     Images  Instances          P          R      mAP50   mAP50-95: 100% 2/2 [00:01<00:00,  1.99it/s]\n",
            "                   all         53         53      0.663      0.724       0.85      0.781\n",
            "\n",
            "      Epoch    GPU_mem   box_loss   obj_loss   cls_loss  Instances       Size\n",
            "      35/49       4.3G    0.01624   0.006981   0.006213         22        640: 100% 30/30 [00:16<00:00,  1.82it/s]\n",
            "                 Class     Images  Instances          P          R      mAP50   mAP50-95: 100% 2/2 [00:01<00:00,  1.22it/s]\n",
            "                   all         53         53      0.925      0.667      0.749      0.687\n",
            "\n",
            "      Epoch    GPU_mem   box_loss   obj_loss   cls_loss  Instances       Size\n",
            "      36/49       4.3G    0.01384   0.007154   0.004629         22        640: 100% 30/30 [00:15<00:00,  1.92it/s]\n",
            "                 Class     Images  Instances          P          R      mAP50   mAP50-95: 100% 2/2 [00:01<00:00,  1.87it/s]\n",
            "                   all         53         53      0.742      0.843      0.864      0.808\n",
            "\n",
            "      Epoch    GPU_mem   box_loss   obj_loss   cls_loss  Instances       Size\n",
            "      37/49       4.3G    0.01696   0.007041   0.006515         23        640: 100% 30/30 [00:15<00:00,  1.95it/s]\n",
            "                 Class     Images  Instances          P          R      mAP50   mAP50-95: 100% 2/2 [00:00<00:00,  2.00it/s]\n",
            "                   all         53         53      0.712          1      0.905      0.846\n",
            "\n",
            "      Epoch    GPU_mem   box_loss   obj_loss   cls_loss  Instances       Size\n",
            "      38/49       4.3G    0.01653   0.006703   0.005535         19        640: 100% 30/30 [00:15<00:00,  1.91it/s]\n",
            "                 Class     Images  Instances          P          R      mAP50   mAP50-95: 100% 2/2 [00:00<00:00,  2.08it/s]\n",
            "                   all         53         53      0.682      0.888      0.828      0.749\n",
            "\n",
            "      Epoch    GPU_mem   box_loss   obj_loss   cls_loss  Instances       Size\n",
            "      39/49       4.3G    0.01194   0.006594   0.005696         18        640: 100% 30/30 [00:15<00:00,  1.92it/s]\n",
            "                 Class     Images  Instances          P          R      mAP50   mAP50-95: 100% 2/2 [00:01<00:00,  1.66it/s]\n",
            "                   all         53         53      0.665      0.889      0.903      0.841\n",
            "\n",
            "      Epoch    GPU_mem   box_loss   obj_loss   cls_loss  Instances       Size\n",
            "      40/49       4.3G    0.01448   0.006554   0.006013         13        640: 100% 30/30 [00:15<00:00,  1.88it/s]\n",
            "                 Class     Images  Instances          P          R      mAP50   mAP50-95: 100% 2/2 [00:01<00:00,  1.24it/s]\n",
            "                   all         53         53      0.678      0.903      0.865      0.802\n",
            "\n",
            "      Epoch    GPU_mem   box_loss   obj_loss   cls_loss  Instances       Size\n",
            "      41/49       4.3G    0.01562   0.007124   0.004539         21        640: 100% 30/30 [00:15<00:00,  1.88it/s]\n",
            "                 Class     Images  Instances          P          R      mAP50   mAP50-95: 100% 2/2 [00:01<00:00,  1.97it/s]\n",
            "                   all         53         53      0.703          1      0.911      0.848\n",
            "\n",
            "      Epoch    GPU_mem   box_loss   obj_loss   cls_loss  Instances       Size\n",
            "      42/49       4.3G    0.01435   0.006667   0.004459         20        640: 100% 30/30 [00:15<00:00,  1.89it/s]\n",
            "                 Class     Images  Instances          P          R      mAP50   mAP50-95: 100% 2/2 [00:01<00:00,  1.97it/s]\n",
            "                   all         53         53      0.666      0.779       0.82      0.747\n",
            "\n",
            "      Epoch    GPU_mem   box_loss   obj_loss   cls_loss  Instances       Size\n",
            "      43/49       4.3G    0.01331   0.006689    0.00416         22        640: 100% 30/30 [00:15<00:00,  1.93it/s]\n",
            "                 Class     Images  Instances          P          R      mAP50   mAP50-95: 100% 2/2 [00:00<00:00,  2.01it/s]\n",
            "                   all         53         53      0.737          1      0.966      0.882\n",
            "\n",
            "      Epoch    GPU_mem   box_loss   obj_loss   cls_loss  Instances       Size\n",
            "      44/49       4.3G    0.01179   0.006602   0.004517         21        640: 100% 30/30 [00:15<00:00,  1.96it/s]\n",
            "                 Class     Images  Instances          P          R      mAP50   mAP50-95: 100% 2/2 [00:01<00:00,  1.79it/s]\n",
            "                   all         53         53      0.727          1      0.939      0.855\n",
            "\n",
            "      Epoch    GPU_mem   box_loss   obj_loss   cls_loss  Instances       Size\n",
            "      45/49       4.3G    0.01289   0.006634   0.004389         25        640: 100% 30/30 [00:16<00:00,  1.81it/s]\n",
            "                 Class     Images  Instances          P          R      mAP50   mAP50-95: 100% 2/2 [00:01<00:00,  1.48it/s]\n",
            "                   all         53         53      0.713          1      0.913      0.839\n",
            "\n",
            "      Epoch    GPU_mem   box_loss   obj_loss   cls_loss  Instances       Size\n",
            "      46/49       4.3G    0.01399   0.006541   0.003946         21        640: 100% 30/30 [00:15<00:00,  1.89it/s]\n",
            "                 Class     Images  Instances          P          R      mAP50   mAP50-95: 100% 2/2 [00:01<00:00,  1.72it/s]\n",
            "                   all         53         53      0.699          1      0.913      0.853\n",
            "\n",
            "      Epoch    GPU_mem   box_loss   obj_loss   cls_loss  Instances       Size\n",
            "      47/49       4.3G    0.01166   0.006549   0.003811         27        640: 100% 30/30 [00:15<00:00,  1.94it/s]\n",
            "                 Class     Images  Instances          P          R      mAP50   mAP50-95: 100% 2/2 [00:01<00:00,  1.80it/s]\n",
            "                   all         53         53      0.703          1      0.939       0.88\n",
            "\n",
            "      Epoch    GPU_mem   box_loss   obj_loss   cls_loss  Instances       Size\n",
            "      48/49       4.3G    0.01317   0.005992   0.003744         24        640: 100% 30/30 [00:15<00:00,  1.96it/s]\n",
            "                 Class     Images  Instances          P          R      mAP50   mAP50-95: 100% 2/2 [00:00<00:00,  2.01it/s]\n",
            "                   all         53         53       0.74          1      0.967      0.909\n",
            "\n",
            "      Epoch    GPU_mem   box_loss   obj_loss   cls_loss  Instances       Size\n",
            "      49/49       4.3G     0.0135   0.006241   0.003733         25        640: 100% 30/30 [00:16<00:00,  1.86it/s]\n",
            "                 Class     Images  Instances          P          R      mAP50   mAP50-95: 100% 2/2 [00:01<00:00,  1.33it/s]\n",
            "                   all         53         53      0.788          1      0.939      0.878\n",
            "\n",
            "50 epochs completed in 0.251 hours.\n",
            "Optimizer stripped from runs/train/exp/weights/last.pt, 14.5MB\n",
            "Optimizer stripped from runs/train/exp/weights/best.pt, 14.5MB\n",
            "\n",
            "Validating runs/train/exp/weights/best.pt...\n",
            "Fusing layers... \n",
            "Model summary: 157 layers, 7018216 parameters, 0 gradients, 15.8 GFLOPs\n",
            "                 Class     Images  Instances          P          R      mAP50   mAP50-95: 100% 2/2 [00:01<00:00,  1.65it/s]\n",
            "                   all         53         53       0.74          1      0.967      0.909\n",
            "            kiewsavoey         53         32      0.853          1      0.992      0.874\n",
            "             numdokmai         53          3       0.58          1      0.913      0.913\n",
            "              turmeric         53         18      0.786          1      0.995       0.94\n",
            "Results saved to \u001b[1mruns/train/exp\u001b[0m\n"
          ]
        }
      ],
      "source": [
        "# Transfer learning YOLOv5s on our own dataset for 100 epochs\n",
        "!python train.py --epochs 50 --data /content/drive/MyDrive/DADS7202/project/yolo_10epochs/MangoDetection.v7i.yolov5pytorch/data.yaml --weights /content/yolov5/yolov5s.pt"
      ]
    },
    {
      "cell_type": "markdown",
      "metadata": {
        "id": "0k8vSNCOWgQr"
      },
      "source": [
        "หลังจาก train เสร็จเราจะโหลดไฟล์ best.pt ลงเครื่อง เพื่อเอาไปใช้งานต่อในเครื่องอื่น ๆ"
      ]
    },
    {
      "cell_type": "markdown",
      "metadata": {
        "id": "R-7ZskCTO3Se"
      },
      "source": [
        "## Detect object\n"
      ]
    },
    {
      "cell_type": "markdown",
      "metadata": {
        "id": "1dLDDVXCbYCa"
      },
      "source": [
        "การใส่ parameter ต่าง ๆ \n",
        "\n",
        "1.   --weights จะใส่ path ของ best.pt ซึ่งเป็น yolo model ที่เรา train ไว้\n",
        "2.   --source จะใส่ path ของ file หรือ folder ของรูปที่ต้องการ detect\n",
        "3.   --project จะใส่ output path ที่ต้องการให้ผลลัพธ์บันทึกไว้\n",
        "\n"
      ]
    },
    {
      "cell_type": "code",
      "execution_count": null,
      "metadata": {
        "colab": {
          "base_uri": "https://localhost:8080/"
        },
        "id": "g4Oz9twTP_ES",
        "outputId": "cacaaf01-d944-4819-8575-b62f27f8a9d8"
      },
      "outputs": [
        {
          "output_type": "stream",
          "name": "stdout",
          "text": [
            "\u001b[34m\u001b[1mdetect: \u001b[0mweights=['/content/yolov5/runs/train/exp/weights/best.pt'], source=/content/drive/MyDrive/DADS7202/project/yolo_10epochs/MangoDetection.v7i.yolov5pytorch/test/images/DSCF2109_JPG.rf.0b6dadc504e3cf8fafe4114a8f2bd872.jpg, data=data/coco128.yaml, imgsz=[640, 640], conf_thres=0.25, iou_thres=0.45, max_det=1000, device=, view_img=False, save_txt=True, save_conf=True, save_crop=True, nosave=False, classes=None, agnostic_nms=False, augment=False, visualize=False, update=False, project=/content/run_transfer, name=test, exist_ok=True, line_thickness=3, hide_labels=False, hide_conf=False, half=False, dnn=False, vid_stride=1\n",
            "\u001b[31m\u001b[1mrequirements:\u001b[0m /usr/local/lib/python3.10/dist-packages/requirements.txt not found, check failed.\n",
            "YOLOv5 🚀 v7.0-167-g5deff14 Python-3.10.11 torch-2.0.0+cu118 CUDA:0 (Tesla T4, 15102MiB)\n",
            "\n",
            "Fusing layers... \n",
            "Model summary: 157 layers, 7018216 parameters, 0 gradients, 15.8 GFLOPs\n",
            "image 1/1 /content/drive/MyDrive/DADS7202/project/yolo_10epochs/MangoDetection.v7i.yolov5pytorch/test/images/DSCF2109_JPG.rf.0b6dadc504e3cf8fafe4114a8f2bd872.jpg: 640x640 1 turmeric, 11.6ms\n",
            "Speed: 0.7ms pre-process, 11.6ms inference, 75.6ms NMS per image at shape (1, 3, 640, 640)\n",
            "Results saved to \u001b[1m/content/run_transfer/test\u001b[0m\n",
            "1 labels saved to /content/run_transfer/test/labels\n"
          ]
        }
      ],
      "source": [
        "!python detect.py --weights /content/yolov5/runs/train/exp/weights/best.pt --source /content/drive/MyDrive/DADS7202/project/yolo_10epochs/MangoDetection.v7i.yolov5pytorch/test/images/DSCF2109_JPG.rf.0b6dadc504e3cf8fafe4114a8f2bd872.jpg --save-txt --save-conf --save-crop --project /content/run_transfer --name test --line-thickness 3 --exist-ok "
      ]
    },
    {
      "cell_type": "code",
      "source": [],
      "metadata": {
        "id": "p1V6PWyBoEdM"
      },
      "execution_count": null,
      "outputs": []
    }
  ],
  "metadata": {
    "colab": {
      "machine_shape": "hm",
      "provenance": [],
      "include_colab_link": true
    },
    "gpuClass": "standard",
    "kernelspec": {
      "display_name": "Python 3",
      "name": "python3"
    },
    "language_info": {
      "name": "python"
    },
    "accelerator": "GPU"
  },
  "nbformat": 4,
  "nbformat_minor": 0
}